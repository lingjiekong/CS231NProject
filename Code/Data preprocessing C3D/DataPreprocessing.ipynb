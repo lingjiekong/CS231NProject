{
 "cells": [
  {
   "cell_type": "markdown",
   "metadata": {},
   "source": [
    "# This is used for a test"
   ]
  },
  {
   "cell_type": "code",
   "execution_count": 1,
   "metadata": {
    "collapsed": true
   },
   "outputs": [],
   "source": [
    "import cv2, simplejson, os, shutil\n",
    "import matplotlib.pyplot as plt\n",
    "import matplotlib.image as img\n",
    "import numpy as np\n",
    "import random\n",
    "import glob"
   ]
  },
  {
   "cell_type": "code",
   "execution_count": 2,
   "metadata": {
    "collapsed": true
   },
   "outputs": [],
   "source": [
    "fileName = '20170507T155114.708081'\n",
    "fileNameVideo = fileName + '.avi'\n",
    "vidcap = cv2.VideoCapture(fileNameVideo)"
   ]
  },
  {
   "cell_type": "code",
   "execution_count": 3,
   "metadata": {},
   "outputs": [
    {
     "data": {
      "text/plain": [
       "[{'end-frame': 111,\n",
       "  'event-class': '0 added',\n",
       "  'object-class': 'Clover Organic 2% Milk',\n",
       "  'start-frame': 81},\n",
       " {'end-frame': 135,\n",
       "  'event-class': '1 removed',\n",
       "  'object-class': 'Clover Organic 2% Milk',\n",
       "  'start-frame': 111},\n",
       " {'end-frame': 176,\n",
       "  'event-class': '0 added',\n",
       "  'object-class': 'Horizon Organic Chocolate Milk',\n",
       "  'start-frame': 141},\n",
       " {'end-frame': 196,\n",
       "  'event-class': '1 removed',\n",
       "  'object-class': 'Horizon Organic Chocolate Milk',\n",
       "  'start-frame': 176},\n",
       " {'end-frame': 228,\n",
       "  'event-class': '0 added',\n",
       "  'object-class': 'Horizon Organic Chocolate Milk',\n",
       "  'start-frame': 208},\n",
       " {'end-frame': 264,\n",
       "  'event-class': '1 removed',\n",
       "  'object-class': 'Horizon Organic Chocolate Milk',\n",
       "  'start-frame': 234}]"
      ]
     },
     "execution_count": 3,
     "metadata": {},
     "output_type": "execute_result"
    }
   ],
   "source": [
    "fileNameEvents = fileName + '-events.json'\n",
    "events = simplejson.loads(open(fileNameEvents).read())\n",
    "events"
   ]
  },
  {
   "cell_type": "code",
   "execution_count": 4,
   "metadata": {},
   "outputs": [
    {
     "name": "stdout",
     "output_type": "stream",
     "text": [
      "[ 81 111 141 176 208 234]\n",
      "[110 134 175 195 227 263]\n",
      "[ 0.  3.  0.  3.  0.  3.]\n"
     ]
    }
   ],
   "source": [
    "frames_start =[]\n",
    "frames_end = []\n",
    "labels = np.zeros(len(events))\n",
    "for idx, event in enumerate(events):\n",
    "    if event['event-class'] == '0 added':\n",
    "        frames_start.append(event['start-frame'])\n",
    "        frames_end.append(event['end-frame']-1)\n",
    "        labels[idx] = 0\n",
    "    elif event['event-class'] == '0 removed':\n",
    "        frames_start.append(event['start-frame'])\n",
    "        frames_end.append(event['end-frame']-1)\n",
    "        labels[idx] = 1\n",
    "    elif event['event-class'] == '1 added':\n",
    "        frames_start.append(event['start-frame'])\n",
    "        frames_end.append(event['end-frame']-1)\n",
    "        labels[idx] = 2\n",
    "    elif event['event-class'] == '1 removed':\n",
    "        frames_start.append(event['start-frame'])\n",
    "        frames_end.append(event['end-frame']-1)\n",
    "        labels[idx] = 3\n",
    "frames_start = np.array(frames_start)\n",
    "frames_end = np.array(frames_end)\n",
    "print(frames_start)\n",
    "print(frames_end)\n",
    "print(labels)"
   ]
  },
  {
   "cell_type": "code",
   "execution_count": 5,
   "metadata": {},
   "outputs": [
    {
     "name": "stdout",
     "output_type": "stream",
     "text": [
      "[[  87.  113.  144.  182.  212.  240.]\n",
      " [  89.  116.  163.  183.  215.  247.]\n",
      " [  90.  124.  169.  184.  222.  252.]\n",
      " [  97.  127.  170.  189.  224.  253.]\n",
      " [ 100.  133.  173.  191.  225.  259.]]\n"
     ]
    }
   ],
   "source": [
    "def get_frames(n, frames_start, frames_end):\n",
    "    frames = np.zeros((n,frames_start.shape[0]))\n",
    "    for i in range(frames_start.shape[0]):\n",
    "        var = random.sample(range(int(frames_start[i]), int(frames_end[i])), n)\n",
    "        var = np.sort(var)\n",
    "        frames[:,i] = var\n",
    "    frames = np.floor(frames)\n",
    "    return frames\n",
    "frames = get_frames(5, frames_start, frames_end)\n",
    "print(frames)"
   ]
  },
  {
   "cell_type": "code",
   "execution_count": 6,
   "metadata": {},
   "outputs": [
    {
     "data": {
      "text/plain": [
       "array([ 81, 111, 141, 176, 208, 234])"
      ]
     },
     "execution_count": 6,
     "metadata": {},
     "output_type": "execute_result"
    }
   ],
   "source": [
    "frames_start"
   ]
  },
  {
   "cell_type": "code",
   "execution_count": 7,
   "metadata": {},
   "outputs": [
    {
     "data": {
      "text/plain": [
       "array([110, 134, 175, 195, 227, 263])"
      ]
     },
     "execution_count": 7,
     "metadata": {},
     "output_type": "execute_result"
    }
   ],
   "source": [
    "frames_end"
   ]
  },
  {
   "cell_type": "code",
   "execution_count": 8,
   "metadata": {
    "collapsed": true,
    "scrolled": true
   },
   "outputs": [],
   "source": [
    "num_frame_per_video = 5\n",
    "num_sample_per_video = 5\n",
    "\n",
    "input_width = 120\n",
    "input_height = 120\n",
    "dirname = 'Data'\n",
    "categories = ['Add0', 'Remove0', 'Add1', 'Remove1']\n",
    "\n",
    "data_len = frames_start.shape[0]\n",
    "vidcap = cv2.VideoCapture(fileNameVideo)\n",
    "if not os.path.isdir(dirname):\n",
    "    os.mkdir(dirname)\n",
    "for category in categories:\n",
    "    if not os.path.isdir(dirname + '/' + category):\n",
    "        os.mkdir(dirname + '/' + category)\n",
    "\n",
    "event = 0\n",
    "for j in range(num_sample_per_video):\n",
    "    frames = get_frames(num_frame_per_video, frames_start, frames_end)\n",
    "    for i in range(data_len):\n",
    "        label = labels[i]\n",
    "        category = categories[int(label)]\n",
    "        \n",
    "        vidcap = cv2.VideoCapture(fileNameVideo)\n",
    "        success,image = vidcap.read()\n",
    "        count_frame = 0\n",
    "        count = 0\n",
    "        while success:\n",
    "            success,image = vidcap.read()\n",
    "            if np.any(frames[:,i] == count_frame):\n",
    "                image_crop = image[100:500, 150:800]\n",
    "                image_down = cv2.resize(image_crop, dsize=(input_width, input_height), interpolation = cv2.INTER_CUBIC)\n",
    "                imageFileName = '%s/%s/v_%s_e%s/f%d.jpg' % (dirname, category, category, event, count)\n",
    "#                 cv2.imwrite(imageFileName, image_down) # save frame as JPEG file\n",
    "                count += 1\n",
    "            count_frame += 1\n",
    "        \n",
    "        vidcap.release()\n",
    "        event += 1"
   ]
  },
  {
   "cell_type": "code",
   "execution_count": 9,
   "metadata": {
    "collapsed": true
   },
   "outputs": [],
   "source": [
    "# f = img.imread('%s/%s/v_%s_e%s_f%d.jpg' % (dirname, category, category, event-1, np.random.randint(0, num_frame_per_video)))\n",
    "# plt.imshow(f)\n",
    "# plt.show()"
   ]
  },
  {
   "cell_type": "markdown",
   "metadata": {},
   "source": [
    "# Real data preprocessing starts from here"
   ]
  },
  {
   "cell_type": "code",
   "execution_count": 10,
   "metadata": {},
   "outputs": [],
   "source": [
    "num_frame_per_video = 5\n",
    "num_sample_per_video = 5\n",
    "\n",
    "input_width = 128\n",
    "input_height = 128\n",
    "dirname = 'Data'\n",
    "categories = ['Add0', 'Remove0', 'Add1', 'Remove1']\n",
    "\n",
    "testList = open('myTest.list', 'w+')\n",
    "trainList = open('myTrain.list', 'w+')\n",
    "\n",
    "# N = len(glob.glob1('.', '*.avi'))\n",
    "event_idx = 0\n",
    "for filename in os.listdir('.'):\n",
    "    \n",
    "    if filename.endswith('.avi'): \n",
    "        fileName = os.path.splitext(filename)[0]\n",
    "        \n",
    "        # read json\n",
    "        fileNameEvents = fileName + '-events.json'\n",
    "        events = simplejson.loads(open(fileNameEvents).read())\n",
    "        \n",
    "        # store start/end frames and labels            \n",
    "        frames_start =[]\n",
    "        frames_end = []\n",
    "        temp_label_list = []\n",
    "        labels = np.zeros(len(events))\n",
    "        for idx, event in enumerate(events):\n",
    "            if event['event-class'] == '0 added':\n",
    "                frames_start.append(event['start-frame'])\n",
    "                frames_end.append(event['end-frame']-1)\n",
    "                labels[idx] = 0\n",
    "            elif event['event-class'] == '0 removed':\n",
    "                frames_start.append(event['start-frame'])\n",
    "                frames_end.append(event['end-frame']-1)\n",
    "                labels[idx] = 1\n",
    "            elif event['event-class'] == '1 added':\n",
    "                frames_start.append(event['start-frame'])\n",
    "                frames_end.append(event['end-frame']-1)\n",
    "                labels[idx] = 2\n",
    "            elif event['event-class'] == '1 removed':\n",
    "                frames_start.append(event['start-frame'])\n",
    "                frames_end.append(event['end-frame']-1)\n",
    "                labels[idx] = 3\n",
    "            \n",
    "        frames_start = np.array(frames_start)\n",
    "        frames_end = np.array(frames_end)\n",
    "            \n",
    "        # make a separate data folder\n",
    "        if not os.path.isdir(dirname):\n",
    "            os.mkdir(dirname)\n",
    "        for category in categories:\n",
    "            if not os.path.isdir(dirname + '/' + category):\n",
    "                os.mkdir(dirname + '/' + category)\n",
    "            \n",
    "        # num sample per video\n",
    "        for j in range(num_sample_per_video):\n",
    "            # sample frame indices\n",
    "            frames = get_frames(num_frame_per_video, frames_start, frames_end)\n",
    "            for i in range(frames_start.shape[0]):\n",
    "                label = labels[i]\n",
    "                category = categories[int(label)]\n",
    "        \n",
    "                # load video\n",
    "                fileNameVideo = fileName + '.avi'\n",
    "                vidcap = cv2.VideoCapture(fileNameVideo)\n",
    "\n",
    "                # data augmentation\n",
    "                success,image = vidcap.read()\n",
    "                count_frame = 0\n",
    "                count = 0\n",
    "                while success:\n",
    "                    success,image = vidcap.read()\n",
    "                    if np.any(frames[:,i] == count_frame):\n",
    "                        # center crop\n",
    "                        image_crop = image[100:500, 150:800]\n",
    "                        # downsampling\n",
    "                        image_down = cv2.resize(image_crop, dsize=(input_width, input_height), interpolation = cv2.INTER_CUBIC)\n",
    "                        # write image\n",
    "                        imageFileName = '%s/%s/v_%s_e%s_%d/%d.jpg' % (dirname, category, category, event_idx, j, count)\n",
    "                        if not os.path.isdir('%s/%s/v_%s_e%s_%d' % (dirname, category, category, event_idx, j)):\n",
    "                            os.mkdir('%s/%s/v_%s_e%s_%d' % (dirname, category, category, event_idx, j))\n",
    "                        cv2.imwrite(imageFileName, image_down) # save frame as JPEG file\n",
    "                        \n",
    "                        imageFileName2 = '\\\\%s\\\\%s\\\\v_%s_e%s_%d %d' % (dirname, category, category, event_idx, j, label)\n",
    "                        count += 1\n",
    "                        \n",
    "                    count_frame += 1\n",
    "                \n",
    "                if np.random.rand(1) < 0.85:\n",
    "                    trainList.write(imageFileName2 + '\\n')\n",
    "                else:\n",
    "                    testList.write(imageFileName2 + '\\n')\n",
    "                \n",
    "                vidcap.release()\n",
    "                event_idx += 1\n",
    "        \n",
    "    else:\n",
    "        continue\n",
    "        \n",
    "testList.close()\n",
    "trainList.close()"
   ]
  },
  {
   "cell_type": "code",
   "execution_count": 11,
   "metadata": {
    "collapsed": true
   },
   "outputs": [],
   "source": [
    "# testList.close()\n",
    "# trainList.close()"
   ]
  }
 ],
 "metadata": {
  "anaconda-cloud": {},
  "kernelspec": {
   "display_name": "Python 3",
   "language": "python",
   "name": "python3"
  },
  "language_info": {
   "codemirror_mode": {
    "name": "ipython",
    "version": 3
   },
   "file_extension": ".py",
   "mimetype": "text/x-python",
   "name": "python",
   "nbconvert_exporter": "python",
   "pygments_lexer": "ipython3",
   "version": "3.5.3"
  }
 },
 "nbformat": 4,
 "nbformat_minor": 1
}
