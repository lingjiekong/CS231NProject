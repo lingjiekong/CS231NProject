{
 "cells": [
  {
   "cell_type": "code",
   "execution_count": 1,
   "metadata": {},
   "outputs": [],
   "source": [
    "import cv2, simplejson, os, shutil\n",
    "import matplotlib.pyplot as plt\n",
    "import matplotlib.image as img\n",
    "import numpy as np"
   ]
  },
  {
   "cell_type": "code",
   "execution_count": 2,
   "metadata": {},
   "outputs": [],
   "source": [
    "fileName = '20170507T155114.708081'\n",
    "fileNameVideo = fileName + '.avi'\n",
    "vidcap = cv2.VideoCapture(fileNameVideo)"
   ]
  },
  {
   "cell_type": "code",
   "execution_count": 3,
   "metadata": {},
   "outputs": [
    {
     "data": {
      "text/plain": [
       "[{'end-frame': 111,\n",
       "  'event-class': '0 added',\n",
       "  'object-class': 'Clover Organic 2% Milk',\n",
       "  'start-frame': 81},\n",
       " {'end-frame': 135,\n",
       "  'event-class': '1 removed',\n",
       "  'object-class': 'Clover Organic 2% Milk',\n",
       "  'start-frame': 111},\n",
       " {'end-frame': 176,\n",
       "  'event-class': '0 added',\n",
       "  'object-class': 'Horizon Organic Chocolate Milk',\n",
       "  'start-frame': 141},\n",
       " {'end-frame': 196,\n",
       "  'event-class': '1 removed',\n",
       "  'object-class': 'Horizon Organic Chocolate Milk',\n",
       "  'start-frame': 176},\n",
       " {'end-frame': 228,\n",
       "  'event-class': '0 added',\n",
       "  'object-class': 'Horizon Organic Chocolate Milk',\n",
       "  'start-frame': 208},\n",
       " {'end-frame': 264,\n",
       "  'event-class': '1 removed',\n",
       "  'object-class': 'Horizon Organic Chocolate Milk',\n",
       "  'start-frame': 234}]"
      ]
     },
     "execution_count": 3,
     "metadata": {},
     "output_type": "execute_result"
    }
   ],
   "source": [
    "fileNameEvents = fileName + '-events.json'\n",
    "events = simplejson.loads(open(fileNameEvents).read())\n",
    "events"
   ]
  },
  {
   "cell_type": "code",
   "execution_count": 4,
   "metadata": {},
   "outputs": [
    {
     "name": "stdout",
     "output_type": "stream",
     "text": [
      "[  81.  111.  141.  176.  208.  234.]\n",
      "[ 110.  134.  175.  195.  227.  263.]\n",
      "[ 0. -1.  0. -1.  0. -1.]\n"
     ]
    }
   ],
   "source": [
    "frames_start = np.zeros(len(events))\n",
    "frames_end = np.zeros(len(events))\n",
    "labels = np.zeros(len(events))\n",
    "for idx, event in enumerate(events):\n",
    "    frames_start[idx] = event['start-frame']\n",
    "    frames_end[idx] = event['end-frame']-1\n",
    "    if event['event-class'] == '0 added' or event['event-class'] == '0 removed':\n",
    "        labels[idx] = 0\n",
    "    elif event['event-class'] == '1 added':\n",
    "        labels[idx] = 1\n",
    "    elif event['event-class'] == '1 removed':\n",
    "        labels[idx] = -1\n",
    "    elif event['event-class'] == '2 added':\n",
    "        labels[idx] = 2\n",
    "print(frames_start)\n",
    "print(frames_end)\n",
    "print(labels)"
   ]
  },
  {
   "cell_type": "code",
   "execution_count": 5,
   "metadata": {},
   "outputs": [],
   "source": [
    "n = 5\n",
    "frames = np.zeros((n,frames_start.shape[0]))\n",
    "for i in range(frames_start.shape[0]):\n",
    "    frames[:,i] = np.linspace(frames_start[i],frames_end[i],n)\n",
    "frames = np.floor(frames)"
   ]
  },
  {
   "cell_type": "code",
   "execution_count": 6,
   "metadata": {},
   "outputs": [],
   "source": [
    "inputSize = 64\n",
    "dirname = 'img'\n",
    "\n",
    "if not os.path.isdir(dirname):\n",
    "    os.mkdir(dirname)\n",
    "\n",
    "success,image = vidcap.read()\n",
    "count = 0\n",
    "success = True\n",
    "while success:\n",
    "    success,image = vidcap.read()\n",
    "    #print('Read a new frame: '), success\n",
    "    if np.any(frames == count):\n",
    "        image_crop = image[100:500, 150:800]\n",
    "        image_down = cv2.resize(image_crop, dsize=(inputSize,inputSize), interpolation = cv2.INTER_CUBIC)\n",
    "        imageFileName = '%s/f%d.jpg' % (dirname, count)\n",
    "        cv2.imwrite(imageFileName, image_down)     # save frame as JPEG file\n",
    "    count += 1\n",
    "vidcap.release()"
   ]
  },
  {
   "cell_type": "code",
   "execution_count": 7,
   "metadata": {},
   "outputs": [
    {
     "data": {
      "image/png": "[encoded data removed]",
      "text/plain": [
       "<matplotlib.figure.Figure at 0x7dee080>"
      ]
     },
     "metadata": {},
     "output_type": "display_data"
    }
   ],
   "source": [
    "f = img.imread('img/f%d.jpg' % np.random.choice(frames.reshape(frames.size)))\n",
    "plt.imshow(f)\n",
    "plt.show()"
   ]
  },
  {
   "cell_type": "code",
   "execution_count": 8,
   "metadata": {},
   "outputs": [],
   "source": [
    "count = 0\n",
    "for filename in os.listdir('.'):\n",
    "    \n",
    "    if filename.endswith('.avi'): \n",
    "        fileName = os.path.splitext(filename)[0]\n",
    "        \n",
    "        # read json\n",
    "        fileNameEvents = fileName + '-events.json'\n",
    "        events = simplejson.loads(open(fileNameEvents).read())\n",
    "        \n",
    "        # store start/end frames and labels\n",
    "        frames_start = np.zeros(len(events))\n",
    "        frames_end = np.zeros(len(events))\n",
    "        labels = np.zeros(len(events))\n",
    "        for idx, event in enumerate(events):\n",
    "            frames_start[idx] = event['start-frame']\n",
    "            frames_end[idx] = event['end-frame']-1\n",
    "            if event['event-class'] == '0 added' or event['event-class'] == '0 removed':\n",
    "                labels[idx] = 0\n",
    "            elif event['event-class'] == '1 added':\n",
    "                labels[idx] = 1\n",
    "            elif event['event-class'] == '1 removed':\n",
    "                labels[idx] = -1\n",
    "            elif event['event-class'] == '2 added':\n",
    "                labels[idx] = 2\n",
    "        \n",
    "        # sample frame indices\n",
    "        n = 5\n",
    "        frames = np.zeros((n,frames_start.shape[0]))\n",
    "        for i in range(frames_start.shape[0]):\n",
    "            frames[:,i] = np.linspace(frames_start[i],frames_end[i],n)\n",
    "        frames = np.floor(frames)\n",
    "\n",
    "        # make a separate image folder\n",
    "        if not os.path.isdir('img'):\n",
    "            os.mkdir('img')\n",
    "        temp = 'img/%s' % fileName\n",
    "        if not os.path.isdir(temp):\n",
    "            os.mkdir(temp)\n",
    "            \n",
    "        # load video\n",
    "        fileNameVideo = fileName + '.avi'\n",
    "        vidcap = cv2.VideoCapture(fileNameVideo)\n",
    "        \n",
    "        # data augmentation\n",
    "        inputSize = 64\n",
    "        success,image = vidcap.read()\n",
    "        count = 0\n",
    "        success = True\n",
    "        while success:\n",
    "            success,image = vidcap.read()\n",
    "            if np.any(frames == count):\n",
    "                # center crop\n",
    "                image_crop = image[100:500, 150:800]\n",
    "                \n",
    "                # downsampling\n",
    "                image_down = cv2.resize(image_crop, dsize=(inputSize,inputSize), interpolation = cv2.INTER_CUBIC)\n",
    "                \n",
    "                # write image\n",
    "                imageFileName = 'img/%s/f%d.jpg' % (fileName, count)\n",
    "                cv2.imwrite(imageFileName, image_down)     # save frame as JPEG file\n",
    "            count += 1\n",
    "            \n",
    "        vidcap.release()\n",
    "        \n",
    "    else:\n",
    "        continue"
   ]
  },
  {
   "cell_type": "code",
   "execution_count": 9,
   "metadata": {},
   "outputs": [],
   "source": [
    "#shutil.rmtree('img')\n",
    "#os.path.isdir('img')"
   ]
  }
 ],
 "metadata": {
  "kernelspec": {
   "display_name": "Python 3",
   "language": "python",
   "name": "python3"
  },
  "language_info": {
   "codemirror_mode": {
    "name": "ipython",
    "version": 3
   },
   "file_extension": ".py",
   "mimetype": "text/x-python",
   "name": "python",
   "nbconvert_exporter": "python",
   "pygments_lexer": "ipython3",
   "version": "3.5.3"
  }
 },
 "nbformat": 4,
 "nbformat_minor": 2
}
