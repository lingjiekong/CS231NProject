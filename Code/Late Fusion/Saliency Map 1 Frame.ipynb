{
 "cells": [
  {
   "cell_type": "code",
   "execution_count": 1,
   "metadata": {
    "collapsed": false
   },
   "outputs": [],
   "source": [
    "# As usual, a bit of setup\n",
    "from __future__ import print_function\n",
    "import time, os, json\n",
    "import numpy as np\n",
    "import matplotlib.pyplot as plt\n",
    "import tensorflow as tf\n",
    "import math\n",
    "import json\n",
    "import random\n",
    "from tempfile import TemporaryFile\n",
    "\n",
    "from cs231n.classifiers.squeezenet import SqueezeNet\n",
    "from cs231n.data_utils import load_tiny_imagenet\n",
    "from cs231n.image_utils import preprocess_image, deprocess_image\n",
    "from cs231n.image_utils import SQUEEZENET_MEAN, SQUEEZENET_STD\n",
    "\n",
    "\n",
    "%matplotlib inline\n",
    "plt.rcParams['figure.figsize'] = (10.0, 8.0) # set default size of plots\n",
    "plt.rcParams['image.interpolation'] = 'nearest'\n",
    "plt.rcParams['image.cmap'] = 'gray'\n",
    "\n",
    "def get_session():\n",
    "    \"\"\"Create a session that dynamically allocates memory.\"\"\"\n",
    "    # See: https://www.tensorflow.org/tutorials/using_gpu#allowing_gpu_memory_growth\n",
    "    config = tf.ConfigProto()\n",
    "    config.gpu_options.allow_growth = True\n",
    "    session = tf.Session(config=config)\n",
    "    return session\n",
    "\n",
    "# for auto-reloading external modules\n",
    "# see http://stackoverflow.com/questions/1907993/autoreload-of-modules-in-ipython\n",
    "%load_ext autoreload\n",
    "%autoreload 2"
   ]
  },
  {
   "cell_type": "code",
   "execution_count": 2,
   "metadata": {
    "collapsed": false
   },
   "outputs": [
    {
     "name": "stdout",
     "output_type": "stream",
     "text": [
      "Train data shape:  (1780, 1, 224, 224, 3)\n",
      "Train labels shape:  (1780,)\n",
      "Validation data shape:  (50, 1, 224, 224, 3)\n",
      "Validation labels shape:  (50,)\n",
      "Test data shape:  (50, 1, 224, 224, 3)\n",
      "Test labels shape:  (50,)\n"
     ]
    }
   ],
   "source": [
    "def get_data(num_training = 1845, num_validation = 200, num_test = 200):\n",
    "    ''' \n",
    "    load the training data provided by Jake \n",
    "    \n",
    "    '''\n",
    "    # load the data\n",
    "    x_total = np.load(\"data_1_frame_more_data.npy\")\n",
    "    y_total = np.load(\"label_1_frame_more_data.npy\")\n",
    "    train_index = np.load(\"train_index_1_frame.npy\") \n",
    "    valid_index = np.load(\"valid_index_1_frame.npy\")\n",
    "    test_index = np.load(\"test_index_1_frame.npy\")\n",
    "    \n",
    "    split_index = 50\n",
    "    train_index = np.concatenate((train_index,valid_index[split_index:num_validation]))\n",
    "    train_index = np.concatenate((train_index,test_index[split_index:num_test]))\n",
    "    valid_index = valid_index[0:split_index]\n",
    "    test_index = test_index[0:split_index]\n",
    "    \n",
    "    for each_valid_index in valid_index:\n",
    "        remove_index = np.where((train_index/5).astype(int) == (each_valid_index/5).astype(int))\n",
    "        train_index = np.delete(train_index, remove_index)\n",
    "    \n",
    "    for each_test_index in test_index:\n",
    "        remove_index = np.where((train_index/5).astype(int) == (each_test_index/5).astype(int))\n",
    "        train_index = np.delete(train_index, remove_index)\n",
    "    \n",
    "    # training data\n",
    "    x_train = x_total[train_index]\n",
    "    y_train = y_total[train_index]\n",
    "    # validation data\n",
    "    x_val = x_total[valid_index]\n",
    "    y_val = y_total[valid_index]\n",
    "    # test data\n",
    "    x_test = x_total[test_index]\n",
    "    y_test = y_total[test_index]\n",
    "    \n",
    "    # normalize the data: subtract the mean\n",
    "    mean_video = np.floor(np.mean(x_train, axis=0))\n",
    "    x_train = x_train - mean_video\n",
    "    x_val = x_val - mean_video\n",
    "    x_test = x_test - mean_video\n",
    "    \n",
    "    return x_train, y_train, x_val, y_val, x_test, y_test, mean_video\n",
    "\n",
    "x_train, y_train, x_val, y_val, x_test, y_test, mean_video = get_data()\n",
    "\n",
    "print('Train data shape: ', x_train.shape)\n",
    "print('Train labels shape: ', y_train.shape)\n",
    "print('Validation data shape: ', x_val.shape)\n",
    "print('Validation labels shape: ', y_val.shape)\n",
    "print('Test data shape: ', x_test.shape)\n",
    "print('Test labels shape: ', y_test.shape)"
   ]
  },
  {
   "cell_type": "markdown",
   "metadata": {},
   "source": [
    "# plot salicency map"
   ]
  },
  {
   "cell_type": "code",
   "execution_count": 3,
   "metadata": {
    "collapsed": true
   },
   "outputs": [],
   "source": [
    "def compute_saliency_maps(sess, X, y, model):\n",
    "    \"\"\"\n",
    "    Compute a class saliency map using the model for images X and labels y.\n",
    "\n",
    "    Input:\n",
    "    - X: Input images, numpy array of shape (N, H, W, 3)\n",
    "    - y: Labels for X, numpy of shape (N,)\n",
    "    - model: A SqueezeNet model that will be used to compute the saliency map.\n",
    "\n",
    "    Returns:\n",
    "    - saliency: A numpy array of shape (N, H, W) giving the saliency maps for the\n",
    "    input images.\n",
    "    \"\"\"\n",
    "    saliency = None\n",
    "    # Compute the score of the correct class for each example.\n",
    "    # This gives a Tensor with shape [N], the number of examples.\n",
    "    #\n",
    "    # Note: this is equivalent to scores[np.arange(N), y] we used in NumPy\n",
    "    # for computing vectorized losses.\n",
    "    correct_scores = tf.gather_nd((model.classifier),\n",
    "                                  tf.stack((tf.range(X.shape[0], dtype = 'int32'), tf.to_int32(model.labels)), axis=1)) # this returns the correct score\n",
    "    ###############################################################################\n",
    "    # TODO: Implement this function. You should use the correct_scores to compute #\n",
    "    # the loss, and tf.gradients to compute the gradient of the loss with respect #\n",
    "    # to the input image stored in model.image.                                   #\n",
    "    # Use the global sess variable to finally run the computation.                #\n",
    "    # Note: model.image and model.labels are placeholders and must be fed values  #\n",
    "    # when you call sess.run().                                                   #\n",
    "    ###############################################################################\n",
    "    # dscore_img is loss w.r.t model.image: dscore_img is also a placeholder\n",
    "    dscore_img = tf.gradients(correct_scores, model.image)\n",
    "    # feed_dict is the data which X in input and y is output \n",
    "    feed_dict = {model.image: X, model.labels: y}\n",
    "    # run the sessoin to get real dscore_img value\n",
    "    dscore_img_val = sess.run(dscore_img, feed_dict=feed_dict)[0]\n",
    "    # take the absolute value\n",
    "    dscore_img_val = abs(dscore_img_val) \n",
    "    # take the max over three channels\n",
    "    saliency = np.max(dscore_img_val, axis = 3) \n",
    "    ##############################################################################\n",
    "    #                             END OF YOUR CODE                               #\n",
    "    ##############################################################################\n",
    "    return saliency\n",
    "\n"
   ]
  },
  {
   "cell_type": "code",
   "execution_count": 4,
   "metadata": {
    "collapsed": true
   },
   "outputs": [],
   "source": [
    "def show_saliency_maps(sess, model, X, y):\n",
    "    Xm = X[31]\n",
    "    ym = y[31:32]\n",
    "    saliency = compute_saliency_maps(sess, Xm, ym, model)[0] # shape of 1*F*H*W*1\n",
    "    print (Xm.shape)\n",
    "    print (saliency.shape)\n",
    "    N = Xm.shape[0]\n",
    "    for i in range(N):\n",
    "        print (i)\n",
    "        plt.subplot(2, N, i + 1)\n",
    "        plt.imshow((Xm[i]+mean_video[0]))\n",
    "        plt.axis('off')\n",
    "        plt.subplot(2, N, N + i + 1)\n",
    "        plt.title(i+1)\n",
    "        plt.imshow(saliency, cmap=plt.cm.hot)\n",
    "        plt.axis('off')\n",
    "        plt.gcf().set_size_inches(10, 4)\n",
    "    plt.show()"
   ]
  },
  {
   "cell_type": "markdown",
   "metadata": {},
   "source": [
    "# load the model for saliency map for 1 frame"
   ]
  },
  {
   "cell_type": "code",
   "execution_count": 5,
   "metadata": {
    "collapsed": true
   },
   "outputs": [],
   "source": [
    "def my_model(rg, lr, dr, dc, FC_size):\n",
    "    tf.reset_default_graph()\n",
    "    sess = get_session()\n",
    "    SAVE_PATH = 'cs231n/datasets/squeezenet.ckpt'\n",
    "    model = SqueezeNet(save_path=SAVE_PATH, sess=sess)\n",
    "    regularizers = 0\n",
    "    NUM_CLASSES = 4 \n",
    "    with tf.variable_scope('classifier_squeeze_frame'):\n",
    "        with tf.variable_scope('layer0'):\n",
    "            FRAME_PER_VIDEO = tf.constant(1, dtype='int32')\n",
    "            x = model.features\n",
    "            dims = tf.shape(x)\n",
    "            N,H,W,C = dims[0], dims[1], dims[2], dims[3]\n",
    "            x = tf.reshape(x, [tf.to_int32(N/FRAME_PER_VIDEO), H*W*C*FRAME_PER_VIDEO]) \n",
    "            W1 = tf.get_variable(\"weights1\",shape=[86528,FC_size])\n",
    "            b1 = tf.get_variable(\"bias1\",shape=[FC_size])\n",
    "            x = tf.matmul(x,W1)+b1\n",
    "            regularizers += tf.nn.l2_loss(W1)\n",
    "            W2 = tf.get_variable(\"weights2\",shape=[FC_size,NUM_CLASSES])\n",
    "            b2 = tf.get_variable(\"bias2\",shape=[NUM_CLASSES])\n",
    "            x = tf.matmul(x,W2)+b2\n",
    "            regularizers += tf.nn.l2_loss(W2)\n",
    "    model.classifier = x \n",
    "    return sess, model"
   ]
  },
  {
   "cell_type": "code",
   "execution_count": 6,
   "metadata": {
    "collapsed": false
   },
   "outputs": [
    {
     "name": "stdout",
     "output_type": "stream",
     "text": [
      "INFO:tensorflow:Restoring parameters from cs231n/datasets/squeezenet.ckpt\n"
     ]
    },
    {
     "name": "stderr",
     "output_type": "stream",
     "text": [
      "INFO:tensorflow:Restoring parameters from cs231n/datasets/squeezenet.ckpt\n"
     ]
    },
    {
     "name": "stdout",
     "output_type": "stream",
     "text": [
      "INFO:tensorflow:Restoring parameters from 1_frame_model.ckpt\n"
     ]
    },
    {
     "name": "stderr",
     "output_type": "stream",
     "text": [
      "INFO:tensorflow:Restoring parameters from 1_frame_model.ckpt\n"
     ]
    },
    {
     "name": "stdout",
     "output_type": "stream",
     "text": [
      "Model restored.\n",
      "map\n",
      "(1, 224, 224, 3)\n",
      "(224, 224)\n",
      "0\n"
     ]
    },
    {
     "data": {
      "image/png": "[encoded data removed]",
      "text/plain": [
       "<matplotlib.figure.Figure at 0x7f46d45aca90>"
      ]
     },
     "metadata": {},
     "output_type": "display_data"
    }
   ],
   "source": [
    "with tf.device(\"/gpu:0\") as dev:\n",
    "    # for 1 frame\n",
    "    rg = 0.003197\n",
    "    lr = 0.000315\n",
    "    dr = 0.898687\n",
    "    dc = 693\n",
    "    FC_size = 100           \n",
    "    sess, model = my_model(rg, lr, dr, dc, FC_size)\n",
    "    # Add ops to save and restore all the variables.\n",
    "    saver = tf.train.Saver()\n",
    "    # Restore variables from disk.\n",
    "    saver.restore(sess, \"1_frame_model.ckpt\")\n",
    "    print(\"Model restored.\")\n",
    "    # comment out the saliceny map\n",
    "    print('map')\n",
    "    show_saliency_maps(sess,model,x_test, y_test)    "
   ]
  },
  {
   "cell_type": "code",
   "execution_count": null,
   "metadata": {
    "collapsed": true
   },
   "outputs": [],
   "source": []
  }
 ],
 "metadata": {
  "kernelspec": {
   "display_name": "Python 3",
   "language": "python",
   "name": "python3"
  },
  "language_info": {
   "codemirror_mode": {
    "name": "ipython",
    "version": 3
   },
   "file_extension": ".py",
   "mimetype": "text/x-python",
   "name": "python",
   "nbconvert_exporter": "python",
   "pygments_lexer": "ipython3",
   "version": "3.5.2"
  }
 },
 "nbformat": 4,
 "nbformat_minor": 0
}
