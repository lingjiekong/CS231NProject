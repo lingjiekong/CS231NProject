{
 "cells": [
  {
   "cell_type": "markdown",
   "metadata": {},
   "source": [
    "# This is used for a test"
   ]
  },
  {
   "cell_type": "code",
   "execution_count": 146,
   "metadata": {
    "collapsed": false
   },
   "outputs": [],
   "source": [
    "import cv2, simplejson, os, shutil\n",
    "import matplotlib.pyplot as plt\n",
    "import matplotlib.image as img\n",
    "import numpy as np"
   ]
  },
  {
   "cell_type": "code",
   "execution_count": 147,
   "metadata": {
    "collapsed": true
   },
   "outputs": [],
   "source": [
    "fileName = '20170507T155114.708081'\n",
    "fileNameVideo = fileName + '.avi'\n",
    "vidcap = cv2.VideoCapture(fileNameVideo)"
   ]
  },
  {
   "cell_type": "code",
   "execution_count": 148,
   "metadata": {
    "collapsed": false
   },
   "outputs": [
    {
     "data": {
      "text/plain": [
       "[{'end-frame': 111,\n",
       "  'event-class': '0 added',\n",
       "  'object-class': 'Clover Organic 2% Milk',\n",
       "  'start-frame': 81},\n",
       " {'end-frame': 135,\n",
       "  'event-class': '1 removed',\n",
       "  'object-class': 'Clover Organic 2% Milk',\n",
       "  'start-frame': 111},\n",
       " {'end-frame': 176,\n",
       "  'event-class': '0 added',\n",
       "  'object-class': 'Horizon Organic Chocolate Milk',\n",
       "  'start-frame': 141},\n",
       " {'end-frame': 196,\n",
       "  'event-class': '1 removed',\n",
       "  'object-class': 'Horizon Organic Chocolate Milk',\n",
       "  'start-frame': 176},\n",
       " {'end-frame': 228,\n",
       "  'event-class': '0 added',\n",
       "  'object-class': 'Horizon Organic Chocolate Milk',\n",
       "  'start-frame': 208},\n",
       " {'end-frame': 264,\n",
       "  'event-class': '1 removed',\n",
       "  'object-class': 'Horizon Organic Chocolate Milk',\n",
       "  'start-frame': 234}]"
      ]
     },
     "execution_count": 148,
     "metadata": {},
     "output_type": "execute_result"
    }
   ],
   "source": [
    "fileNameEvents = fileName + '-events.json'\n",
    "events = simplejson.loads(open(fileNameEvents).read())\n",
    "events"
   ]
  },
  {
   "cell_type": "code",
   "execution_count": 149,
   "metadata": {
    "collapsed": false
   },
   "outputs": [
    {
     "name": "stdout",
     "output_type": "stream",
     "text": [
      "[  81.  111.  141.  176.  208.  234.]\n",
      "[ 110.  134.  175.  195.  227.  263.]\n",
      "[ 0.  3.  0.  3.  0.  3.]\n",
      "[0.0, 3.0, 0.0, 3.0, 0.0, 3.0]\n"
     ]
    }
   ],
   "source": [
    "dataDict = {}\n",
    "dataDict['data'] = []\n",
    "dataDict['label'] = []\n",
    "frames_start = np.zeros(len(events))\n",
    "frames_end = np.zeros(len(events))\n",
    "labels = np.zeros(len(events))\n",
    "for idx, event in enumerate(events):\n",
    "    frames_start[idx] = event['start-frame']\n",
    "    frames_end[idx] = event['end-frame']-1\n",
    "    if event['event-class'] == '0 added' or event['event-class'] == '0 removed':\n",
    "        labels[idx] = 0\n",
    "    elif event['event-class'] == '1 added':\n",
    "        labels[idx] = 1\n",
    "    elif event['event-class'] == '1 removed':\n",
    "        labels[idx] = 3\n",
    "    elif event['event-class'] == '2 added':\n",
    "        labels[idx] = 2\n",
    "    dataDict['label'].append(labels[idx])\n",
    "print(frames_start)\n",
    "print(frames_end)\n",
    "print(labels)\n",
    "print (dataDict['label'])"
   ]
  },
  {
   "cell_type": "code",
   "execution_count": 150,
   "metadata": {
    "collapsed": false
   },
   "outputs": [],
   "source": [
    "n = 5\n",
    "frames = np.zeros((n,frames_start.shape[0]))\n",
    "for i in range(frames_start.shape[0]):\n",
    "    frames[:,i] = np.linspace(frames_start[i],frames_end[i],n)\n",
    "frames = np.floor(frames)"
   ]
  },
  {
   "cell_type": "code",
   "execution_count": 151,
   "metadata": {
    "collapsed": false
   },
   "outputs": [],
   "source": [
    "inputSize = 64\n",
    "dirname = 'img'\n",
    "data_len = frames_start.shape[0]\n",
    "vidcap = cv2.VideoCapture(fileNameVideo)\n",
    "if not os.path.isdir(dirname):\n",
    "    os.mkdir(dirname)\n",
    "\n",
    "for i in range(data_len):\n",
    "    vidcap = cv2.VideoCapture(fileNameVideo)\n",
    "    success,image = vidcap.read()\n",
    "    count = 0\n",
    "    success = True\n",
    "    one_data = []\n",
    "    while success:\n",
    "        success,image = vidcap.read()\n",
    "        #print('Read a new frame: '), success\n",
    "        if np.any(frames[:,i] == count):\n",
    "            image_crop = image[100:500, 150:800]\n",
    "            image_down = cv2.resize(image_crop, dsize=(inputSize,inputSize), interpolation = cv2.INTER_CUBIC)\n",
    "            imageFileName = '%s/f%d.jpg' % (dirname, count)\n",
    "            cv2.imwrite(imageFileName, image_down)     # save frame as JPEG file\n",
    "            one_data.append(image_down)\n",
    "        count += 1\n",
    "    dataDict['data'].append(one_data)\n",
    "    vidcap.release()\n"
   ]
  },
  {
   "cell_type": "code",
   "execution_count": 152,
   "metadata": {
    "collapsed": false
   },
   "outputs": [
    {
     "name": "stdout",
     "output_type": "stream",
     "text": [
      "(6,)\n",
      "(6, 5, 64, 64, 3)\n"
     ]
    }
   ],
   "source": [
    "print (np.array(dataDict['label']).shape)\n",
    "print (np.array(dataDict['data']).shape)"
   ]
  },
  {
   "cell_type": "code",
   "execution_count": 153,
   "metadata": {
    "collapsed": false
   },
   "outputs": [
    {
     "data": {
      "image/png": "[encoded data removed]",
      "text/plain": [
       "<matplotlib.figure.Figure at 0x1480036c978>"
      ]
     },
     "metadata": {},
     "output_type": "display_data"
    }
   ],
   "source": [
    "f = img.imread('img/f%d.jpg' % np.random.choice(frames.reshape(frames.size)))\n",
    "plt.imshow(f)\n",
    "plt.show()"
   ]
  },
  {
   "cell_type": "markdown",
   "metadata": {},
   "source": [
    "# Real data preprocessing starts from here"
   ]
  },
  {
   "cell_type": "code",
   "execution_count": 154,
   "metadata": {
    "collapsed": false
   },
   "outputs": [],
   "source": [
    "count = 0\n",
    "dataDict = {}\n",
    "dataDict['data'] = []\n",
    "dataDict['label'] = []\n",
    "\n",
    "for filename in os.listdir('.'):\n",
    "    \n",
    "    if filename.endswith('.avi'): \n",
    "        fileName = os.path.splitext(filename)[0]\n",
    "        \n",
    "        # read json\n",
    "        fileNameEvents = fileName + '-events.json'\n",
    "        events = simplejson.loads(open(fileNameEvents).read())\n",
    "        \n",
    "        # store start/end frames and labels\n",
    "        frames_start = np.zeros(len(events))\n",
    "        frames_end = np.zeros(len(events))\n",
    "        labels = np.zeros(len(events))\n",
    "        for idx, event in enumerate(events):\n",
    "            frames_start[idx] = event['start-frame']\n",
    "            frames_end[idx] = event['end-frame']-1\n",
    "            if event['event-class'] == '0 added' or event['event-class'] == '0 removed':\n",
    "                labels[idx] = 0\n",
    "            elif event['event-class'] == '1 added':\n",
    "                labels[idx] = 1\n",
    "            elif event['event-class'] == '1 removed':\n",
    "                labels[idx] = 3 # used to be -1\n",
    "            elif event['event-class'] == '2 added':\n",
    "                labels[idx] = 2\n",
    "            dataDict['label'].append(labels[idx])\n",
    "        \n",
    "        # sample frame indices\n",
    "        n = 5\n",
    "        frames = np.zeros((n,frames_start.shape[0]))\n",
    "        for i in range(frames_start.shape[0]):\n",
    "            frames[:,i] = np.linspace(frames_start[i],frames_end[i],n)\n",
    "        frames = np.floor(frames)\n",
    "\n",
    "        # make a separate image folder\n",
    "        if not os.path.isdir('img'):\n",
    "            os.mkdir('img')\n",
    "        temp = 'img/%s' % fileName\n",
    "        if not os.path.isdir(temp):\n",
    "            os.mkdir(temp)\n",
    "            \n",
    "        for i in range(frames_start.shape[0]):\n",
    "            # load video\n",
    "            fileNameVideo = fileName + '.avi'\n",
    "            vidcap = cv2.VideoCapture(fileNameVideo)\n",
    "\n",
    "            # data augmentation\n",
    "            inputSize = 64\n",
    "            success,image = vidcap.read()\n",
    "            count = 0\n",
    "            success = True\n",
    "            one_data = []\n",
    "            while success:\n",
    "                success,image = vidcap.read()\n",
    "                if np.any(frames[:,i] == count):\n",
    "                    # center crop\n",
    "                    image_crop = image[100:500, 150:800]\n",
    "\n",
    "                    # downsampling\n",
    "                    image_down = cv2.resize(image_crop, dsize=(inputSize,inputSize), interpolation = cv2.INTER_CUBIC)\n",
    "                    one_data.append(image_down)\n",
    "                    # write image\n",
    "                    imageFileName = 'img/%s/f%d.jpg' % (fileName, count)\n",
    "                    cv2.imwrite(imageFileName, image_down)     # save frame as JPEG file\n",
    "                count += 1\n",
    "                \n",
    "            dataDict['data'].append(one_data)\n",
    "            vidcap.release()\n",
    "        \n",
    "    else:\n",
    "        continue"
   ]
  },
  {
   "cell_type": "code",
   "execution_count": 155,
   "metadata": {
    "collapsed": false
   },
   "outputs": [
    {
     "name": "stdout",
     "output_type": "stream",
     "text": [
      "(101,)\n",
      "(101, 5, 64, 64, 3)\n"
     ]
    }
   ],
   "source": [
    "print (np.array(dataDict['label']).shape)\n",
    "print (np.array(dataDict['data']).shape)"
   ]
  },
  {
   "cell_type": "markdown",
   "metadata": {},
   "source": [
    "# save result"
   ]
  },
  {
   "cell_type": "code",
   "execution_count": 165,
   "metadata": {
    "collapsed": false
   },
   "outputs": [],
   "source": [
    "import json\n",
    "# each separate dict()\n",
    "with open('label.json', 'w') as fp:\n",
    "    json.dump(np.array(dataDict['label']).tolist(), fp, indent=4)\n",
    "with open('data.json', 'w') as fp:\n",
    "    json.dump(np.array(dataDict['data']).tolist(), fp, indent=4)"
   ]
  },
  {
   "cell_type": "markdown",
   "metadata": {},
   "source": [
    "# load result"
   ]
  },
  {
   "cell_type": "code",
   "execution_count": 166,
   "metadata": {
    "collapsed": true
   },
   "outputs": [],
   "source": [
    "with open('label.json', 'r') as fp:\n",
    "    label_load = json.load(fp)\n",
    "with open('data.json', 'r') as fp:\n",
    "    data_load = json.load(fp)"
   ]
  }
 ],
 "metadata": {
  "anaconda-cloud": {},
  "kernelspec": {
   "display_name": "Python [conda env:tensorflowroot]",
   "language": "python",
   "name": "conda-env-tensorflowroot-py"
  },
  "language_info": {
   "codemirror_mode": {
    "name": "ipython",
    "version": 3
   },
   "file_extension": ".py",
   "mimetype": "text/x-python",
   "name": "python",
   "nbconvert_exporter": "python",
   "pygments_lexer": "ipython3",
   "version": "3.5.3"
  }
 },
 "nbformat": 4,
 "nbformat_minor": 1
}
